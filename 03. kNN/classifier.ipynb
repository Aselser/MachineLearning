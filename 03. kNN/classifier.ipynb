{
 "cells": [
  {
   "cell_type": "markdown",
   "id": "ec4a2ff3",
   "metadata": {},
   "source": [
    "\n",
    "# Section 03 – K-Nearest Neighbors (KNN)\n",
    "\n",
    "## 1. Introduction & Theory\n",
    "KNN is a non-parametric algorithm that classifies a new sample by looking at the **k nearest training points**.\n",
    "\n",
    "- **Unweighted**: all neighbors count equally.  \n",
    "- **Distance-weighted**: closer neighbors have more influence (inverse-distance weighting).  \n",
    "\n",
    "**Euclidean distance**:\n",
    "\n",
    "$d(x, x_i) = \\sqrt{\\sum_j (x_j - x_{ij})^2}$\n",
    "\n",
    "**Weighted voting**:\n",
    "\n",
    "$\\hat{y} = \\arg\\max_{c} \\sum_{i \\in N_k(x)} w_i \\cdot 1(y_i = c)$, with $w_i = 1 / d(x, x_i)$\n"
   ]
  },
  {
   "cell_type": "markdown",
   "id": "6a6afaa6",
   "metadata": {},
   "source": [
    "## 2. Dataset Description"
   ]
  },
  {
   "cell_type": "code",
   "execution_count": 1,
   "id": "c0c95798",
   "metadata": {},
   "outputs": [],
   "source": [
    "import warnings\n",
    "warnings.filterwarnings(\"ignore\")"
   ]
  },
  {
   "cell_type": "code",
   "execution_count": 3,
   "id": "1049b45b",
   "metadata": {},
   "outputs": [
    {
     "name": "stdout",
     "output_type": "stream",
     "text": [
      "<class 'pandas.core.frame.DataFrame'>\n",
      "RangeIndex: 257 entries, 0 to 256\n",
      "Data columns (total 7 columns):\n",
      " #   Column          Non-Null Count  Dtype  \n",
      "---  ------          --------------  -----  \n",
      " 0   Review Title    257 non-null    object \n",
      " 1   Review Text     257 non-null    object \n",
      " 2   wordcount       257 non-null    int64  \n",
      " 3   titleSentiment  231 non-null    object \n",
      " 4   textSentiment   257 non-null    object \n",
      " 5   Star Rating     257 non-null    int64  \n",
      " 6   sentimentValue  257 non-null    float64\n",
      "dtypes: float64(1), int64(2), object(4)\n",
      "memory usage: 14.2+ KB\n"
     ]
    },
    {
     "data": {
      "text/plain": [
       "(                 Review Title  \\\n",
       " 0                Sin conexión   \n",
       " 1                faltan cosas   \n",
       " 2  Es muy buena lo recomiendo   \n",
       " 3             Version antigua   \n",
       " 4                   Esta bien   \n",
       " \n",
       "                                          Review Text  wordcount  \\\n",
       " 0  Hola desde hace algo más de un mes me pone sin...         23   \n",
       " 1                 Han mejorado la apariencia pero no         20   \n",
       " 2                               Andres e puto amoooo          4   \n",
       " 3  Me gustana mas la version anterior esta es mas...         17   \n",
       " 4                    Sin ser la biblia.... Esta bien          6   \n",
       " \n",
       "   titleSentiment textSentiment  Star Rating  sentimentValue  \n",
       " 0       negative      negative            1       -0.486389  \n",
       " 1       negative      negative            1       -0.586187  \n",
       " 2            NaN      negative            1       -0.602240  \n",
       " 3            NaN      negative            1       -0.616271  \n",
       " 4       negative      negative            1       -0.651784  ,\n",
       " None)"
      ]
     },
     "execution_count": 3,
     "metadata": {},
     "output_type": "execute_result"
    }
   ],
   "source": [
    "import pandas as pd\n",
    "\n",
    "df = pd.read_csv(\"reviews_sentiment.csv\", sep=\";\")\n",
    "df.head(), df.info()\n"
   ]
  },
  {
   "cell_type": "markdown",
   "id": "865754f7",
   "metadata": {},
   "source": [
    "## 3. Preprocessing"
   ]
  },
  {
   "cell_type": "code",
   "execution_count": 4,
   "id": "0e00d5d8",
   "metadata": {},
   "outputs": [
    {
     "name": "stdout",
     "output_type": "stream",
     "text": [
      "Preprocessing done.\n"
     ]
    },
    {
     "data": {
      "text/html": [
       "<div>\n",
       "<style scoped>\n",
       "    .dataframe tbody tr th:only-of-type {\n",
       "        vertical-align: middle;\n",
       "    }\n",
       "\n",
       "    .dataframe tbody tr th {\n",
       "        vertical-align: top;\n",
       "    }\n",
       "\n",
       "    .dataframe thead th {\n",
       "        text-align: right;\n",
       "    }\n",
       "</style>\n",
       "<table border=\"1\" class=\"dataframe\">\n",
       "  <thead>\n",
       "    <tr style=\"text-align: right;\">\n",
       "      <th></th>\n",
       "      <th>Review Title</th>\n",
       "      <th>Review Text</th>\n",
       "      <th>wordcount</th>\n",
       "      <th>titleSentiment</th>\n",
       "      <th>textSentiment</th>\n",
       "      <th>Star Rating</th>\n",
       "      <th>sentimentValue</th>\n",
       "    </tr>\n",
       "  </thead>\n",
       "  <tbody>\n",
       "    <tr>\n",
       "      <th>0</th>\n",
       "      <td>Sin conexión</td>\n",
       "      <td>Hola desde hace algo más de un mes me pone sin...</td>\n",
       "      <td>0.785714</td>\n",
       "      <td>0</td>\n",
       "      <td>negative</td>\n",
       "      <td>1</td>\n",
       "      <td>0.439201</td>\n",
       "    </tr>\n",
       "    <tr>\n",
       "      <th>1</th>\n",
       "      <td>faltan cosas</td>\n",
       "      <td>Han mejorado la apariencia pero no</td>\n",
       "      <td>0.678571</td>\n",
       "      <td>0</td>\n",
       "      <td>negative</td>\n",
       "      <td>1</td>\n",
       "      <td>0.426727</td>\n",
       "    </tr>\n",
       "    <tr>\n",
       "      <th>2</th>\n",
       "      <td>Es muy buena lo recomiendo</td>\n",
       "      <td>Andres e puto amoooo</td>\n",
       "      <td>0.107143</td>\n",
       "      <td>0</td>\n",
       "      <td>negative</td>\n",
       "      <td>1</td>\n",
       "      <td>0.424720</td>\n",
       "    </tr>\n",
       "    <tr>\n",
       "      <th>3</th>\n",
       "      <td>Version antigua</td>\n",
       "      <td>Me gustana mas la version anterior esta es mas...</td>\n",
       "      <td>0.571429</td>\n",
       "      <td>0</td>\n",
       "      <td>negative</td>\n",
       "      <td>1</td>\n",
       "      <td>0.422966</td>\n",
       "    </tr>\n",
       "    <tr>\n",
       "      <th>4</th>\n",
       "      <td>Esta bien</td>\n",
       "      <td>Sin ser la biblia.... Esta bien</td>\n",
       "      <td>0.178571</td>\n",
       "      <td>0</td>\n",
       "      <td>negative</td>\n",
       "      <td>1</td>\n",
       "      <td>0.418527</td>\n",
       "    </tr>\n",
       "  </tbody>\n",
       "</table>\n",
       "</div>"
      ],
      "text/plain": [
       "                 Review Title  \\\n",
       "0                Sin conexión   \n",
       "1                faltan cosas   \n",
       "2  Es muy buena lo recomiendo   \n",
       "3             Version antigua   \n",
       "4                   Esta bien   \n",
       "\n",
       "                                         Review Text  wordcount  \\\n",
       "0  Hola desde hace algo más de un mes me pone sin...   0.785714   \n",
       "1                 Han mejorado la apariencia pero no   0.678571   \n",
       "2                               Andres e puto amoooo   0.107143   \n",
       "3  Me gustana mas la version anterior esta es mas...   0.571429   \n",
       "4                    Sin ser la biblia.... Esta bien   0.178571   \n",
       "\n",
       "   titleSentiment textSentiment  Star Rating  sentimentValue  \n",
       "0               0      negative            1        0.439201  \n",
       "1               0      negative            1        0.426727  \n",
       "2               0      negative            1        0.424720  \n",
       "3               0      negative            1        0.422966  \n",
       "4               0      negative            1        0.418527  "
      ]
     },
     "execution_count": 4,
     "metadata": {},
     "output_type": "execute_result"
    }
   ],
   "source": [
    "\n",
    "def normalize(val, min_val, max_val):\n",
    "    return (val - min_val) / (max_val - min_val)\n",
    "\n",
    "# Handle missing values and encode categorical sentiment\n",
    "df[\"titleSentiment\"] = df[\"titleSentiment\"].fillna(df[\"textSentiment\"])\n",
    "df[\"titleSentiment\"].replace(to_replace=\"positive\", value=1, inplace=True)\n",
    "df[\"titleSentiment\"].replace(to_replace=\"negative\", value=0, inplace=True)\n",
    "\n",
    "# Normalize numeric features\n",
    "df[\"wordcount\"] = df[\"wordcount\"].apply(lambda x: normalize(x, 1, 29))\n",
    "df[\"sentimentValue\"] = df[\"sentimentValue\"].apply(lambda x: normalize(x, -4, 4))\n",
    "\n",
    "print(\"Preprocessing done.\")\n",
    "df.head()\n"
   ]
  },
  {
   "cell_type": "markdown",
   "id": "480a004f",
   "metadata": {},
   "source": [
    "## 4. Data Visualization"
   ]
  },
  {
   "cell_type": "code",
   "execution_count": 5,
   "id": "792c1d4f",
   "metadata": {},
   "outputs": [
    {
     "data": {
      "application/vnd.plotly.v1+json": {
       "config": {
        "plotlyServerURL": "https://plot.ly"
       },
       "data": [
        {
         "hovertemplate": "Star Rating=1<br>wordcount=%{x}<br>titleSentiment=%{y}<br>sentimentValue=%{z}<extra></extra>",
         "legendgroup": "1",
         "marker": {
          "color": "#f0f921",
          "size": 5,
          "symbol": "circle"
         },
         "mode": "markers",
         "name": "1",
         "scene": "scene",
         "showlegend": true,
         "type": "scatter3d",
         "x": {
          "bdata": "SZIkSZIk6T9u27Zt27blP9u2bdu2bbs/kiRJkiRJ4j+3bdu2bdvGPwAAAAAAANA/SZIkSZIk6T9JkiRJkiThP7dt27Zt2+Y/27Zt27Zt2z/btm3btm27P5IkSZIkSdI/27Zt27Ztuz9JkiRJkiTpP27btm3btt0/btu2bdu25T8lSZIkSZLsP9u2bdu2bcs/kiRJkiRJwj8AAAAAAADoP9u2bdu2bds/27Zt27Ztyz/btm3btm3jP9u2bdu2bbs/kiRJkiRJoj8AAAAAAADwP9u2bdu2bbs/27Zt27Ztuz/btm3btm3bP0mSJEmSJNk/t23btm3bxj9u27Zt27bdP9u2bdu2bcs/kiRJkiRJwj/btm3btm3LP9u2bdu2bbs/27Zt27Zt4z8=",
          "dtype": "f8"
         },
         "y": {
          "bdata": "AAAAAAABAQEBAAEAAQAAAQABAQEBAAABAQEBAQEAAQAAAAEAAA==",
          "dtype": "i1"
         },
         "z": {
          "bdata": "q/1F898b3D9mQzrxfE/bP6Kwm6acLts/Mq3xZuAR2z8KX/KtJcnaP6fJXmuIPNo/u8z6KHYv2j8LB46bGBvaP9ZpKfCy4Nk/TvmrgMad2T8S9kd0BFXZP1TQIg/SStk/nkkfKTvk2D+UBpRxevrXP0zguel2Vdc/bH4xOhI31z9HoEhEDCrXP8fUh8kqGtc/TLzHDvXL1T+ActbFQLbVP/jn4ajZWtQ/7gWjIh8q1D/KJxhjeAPUP4PpOTy9wNE/iBKPNpWTyz9xa4pqQW7gP7KcYIao890/hU3ckmSB3T+7ommPyzXdP9AD4GFXJ90/fapNacoT3T/YGsdgtP3cP6TmZJBA09w/cQKAYJ573D/JEMGYW0bcPycDFI9sRdw/BflNy7oM3D8=",
          "dtype": "f8"
         }
        },
        {
         "hovertemplate": "Star Rating=2<br>wordcount=%{x}<br>titleSentiment=%{y}<br>sentimentValue=%{z}<extra></extra>",
         "legendgroup": "2",
         "marker": {
          "color": "#fdca26",
          "size": 5,
          "symbol": "circle"
         },
         "mode": "markers",
         "name": "2",
         "scene": "scene",
         "showlegend": true,
         "type": "scatter3d",
         "x": {
          "bdata": "JUmSJEmS8D9u27Zt27YBQJIkSZIkSfI/t23btm3b8j/btm3btm0FQLdt27Zt2/I/AAAAAAAA9D9u27Zt27YBQEmSJEmSJPk/btu2bdu27T9u27Zt27bxP0mSJEmSJA1AAAAAAAAA6D9u27Zt27blP27btm3btu0/SZIkSZIk9T/btm3btm37P7dt27Zt2+4/SZIkSZIk/T+3bdu2bdvyP9u2bdu2bfs/27Zt27Zt9z/btm3btm33P27btm3btu0/",
          "dtype": "f8"
         },
         "y": {
          "bdata": "AAEAAQAAAAABAQAAAAEBAQEBAAEBAQAB",
          "dtype": "i1"
         },
         "z": {
          "bdata": "oCkaScN/3z+y66PuZX7fP+nJafZ59d4/ulMl6+Vi3j81L4x8caPdPwhjyzt8k9s/GIDAdm8U2z/uNxtXt9zaPxgupu9+BNo/vNzpr3TY2T+TANn5JmbYPxuCFxmEV9I/MJSG2Bs24D+y1i50UTvgPyZC+5qMS+A/vepdQQyM4D/SAa60GJXgPwjxLJHuoOA/Q2xRBu7F4D9Q09I5sdvgP46DsFRD6OA/n+9l3m0O4T8Mqc70PkfhP98zNG6wbuE/",
          "dtype": "f8"
         }
        },
        {
         "hovertemplate": "Star Rating=3<br>wordcount=%{x}<br>titleSentiment=%{y}<br>sentimentValue=%{z}<extra></extra>",
         "legendgroup": "3",
         "marker": {
          "color": "#fb9f3a",
          "size": 5,
          "symbol": "circle"
         },
         "mode": "markers",
         "name": "3",
         "scene": "scene",
         "showlegend": true,
         "type": "scatter3d",
         "x": {
          "bdata": "kiRJkiRJ0j/btm3btm3bPwAAAAAAAOA/kiRJkiRJsj+3bdu2bdvGP27btm3btuU/kiRJkiRJsj/btm3btm3bP5IkSZIkSdI/AAAAAAAAAAAAAAAAAAAAAJIkSZIkScI/kiRJkiRJoj/btm3btm3LPwAAAAAAAOA/SZIkSZIk6T/btm3btm27P5IkSZIkSdI/kiRJkiRJsj8AAAAAAADQPyVJkiRJktQ/t23btm3bxj+SJEmSJEmyPyVJkiRJkuQ/AAAAAAAAAAAAAAAAAAAAAAAAAAAAAAAAAAAAAAAAAAAAAAAAAAAAAAAAAAAAAAAA27Zt27Ztyz+SJEmSJEmiP5IkSZIkScI/27Zt27Ztuz+SJEmSJEniP0mSJEmSJOk/t23btm3b7j9JkiRJkiTpP27btm3btuU/kiRJkiRJwj/btm3btm27PyVJkiRJkuQ/kiRJkiRJ4j9JkiRJkiTZP5IkSZIkSbI/kiRJkiRJ0j+SJEmSJEnCP7dt27Zt28Y/kiRJkiRJoj/btm3btm3jP9u2bdu2bbs/AAAAAAAA4D+SJEmSJEnCP9u2bdu2bbs/AAAAAAAAAAAAAAAAAAAAALdt27Zt28Y/t23btm3bxj/btm3btm27P0mSJEmSJOE/SZIkSZIk2T+SJEmSJEnSP7dt27Zt29Y/27Zt27Ztuz8AAAAAAADQP7dt27Zt29Y/t23btm3bxj+3bdu2bdvWPwAAAAAAANA/AAAAAAAAAAAlSZIkSZLUPwAAAAAAAAAAkiRJkiRJsj+SJEmSJEnCPwAAAAAAAOg/kiRJkiRJoj+SJEmSJEmiPwAAAAAAAAAA",
          "dtype": "f8"
         },
         "y": {
          "bdata": "AQEBAQEBAQEBAQEBAQEBAQEBAQEBAQEAAQEBAQEBAQEBAAEAAQEBAQEBAQEBAQEBAQEBAQEBAQEBAQEBAQEBAQEBAQEBAQEBAQABAQEB",
          "dtype": "i1"
         },
         "z": {
          "bdata": "T83u41fn3z+EBrjWPeHfPy9kXorf0t8/8WjXOfS13z8uA7hEzJzfPyClaa6Ggd8/0W2S6eN53z90JpfTvG/fP4kHhTt1Z98/eWlQOg9V3z95aVA6D1XfP32qTGMWSt8/U6OVb2tI3z9p8Ggvw0LfPxXDYLCZOt8/nakAC1Yy3z8eWbAl5CXfP8RTwUjuI98/KfyBOFEj3z+Cr1OMhSLfP33qWVm9HN8/zaSt3OAV3z9Zyc6FKRLfP/aWfOd95d4/VrAir5Dh3j9WsCKvkOHeP1awIq+Q4d4/VrAir5Dh3j/7gDVeW6DeP8pYy22WS94/XxpqzScu3j943YclERzePx9DiIWyBt4/8MfrwXvz3T+4UeP2WvDdP5s4s1+YmN0/aKYJPjy/3D9mveC4GG3cP5r8FzmVAeA/nNF9fO8E4D/5Hdbt0xTgP/0eNEI4I+A/yLBkffQj4D/JdKSX2ijgPyyiLqxiK+A/F3Hgg6Mx4D9pNj1QS0TgPwsZEEoIUOA/vwZR+jZT4D/d6h60L2vgP+YK+RMhgOA/gEXg1kGH4D/tzK3DeYvgPxCzGbEqjOA/busMxIub4D99yhXk0JzgPzFN3uA2oeA/rAmokHik4D+8n0cHv67gP1GexUOTwuA/bNU5AgfO4D8s56kkx9ngPw/xV6d33+A/oGKXDGzz4D8Qyy0QHvTgPw/nAPSV+uA/zbXhHMv84D9hlIUWYiDhP3DYBkN7IuE/zXr/FiQn4T98Z8wSaDDhP2TvMfyUMOE/vA2DD/Aw4T9PvR3lwTThP/qgo3fTO+E/bdChO+s94T+AFdl/4kPoP8hggpDH+uk/",
          "dtype": "f8"
         }
        },
        {
         "hovertemplate": "Star Rating=4<br>wordcount=%{x}<br>titleSentiment=%{y}<br>sentimentValue=%{z}<extra></extra>",
         "legendgroup": "4",
         "marker": {
          "color": "#ed7953",
          "size": 5,
          "symbol": "circle"
         },
         "mode": "markers",
         "name": "4",
         "scene": "scene",
         "showlegend": true,
         "type": "scatter3d",
         "x": {
          "bdata": "27Zt27Ztyz+SJEmSJEniP0mSJEmSJOE/AAAAAAAA6D/btm3btm27P9u2bdu2bfM/kiRJkiRJ4j9JkiRJkiThP7dt27Zt2+Y/SZIkSZIk4T+3bdu2bdvmP7dt27Zt2+Y/SZIkSZIk2T/btm3btm3rP9u2bdu2bes/JUmSJEmS8D8lSZIkSZLkPyVJkiRJktQ/SZIkSZIk2T/btm3btm3bP0mSJEmSJNk/t23btm3b1j9JkiRJkiTZP0mSJEmSJNk/SZIkSZIk2T+3bdu2bdvWPwAAAAAAAOA/27Zt27Zt4z9u27Zt27bdPwAAAAAAAOA/",
          "dtype": "f8"
         },
         "y": {
          "bdata": "AQEAAQEBAQEBAQEBAAEBAQEBAQEBAQEBAQEBAQEB",
          "dtype": "i1"
         },
         "z": {
          "bdata": "Pcchca5t4D8DtCDJEMzgPxfPgeRk8uA/Yg2HBosX4T9MPhsJf0PhP1a0KEbUluE/nYb7Jpya4T+kvGTTsuPhP9v/juW7C+I/jHCkKlkN4j8BrigqkR3iP5pWo2/mU+I/0zNKljT54j9Gwo8iyTvjP95yOrsLQeM/EBc1/c974z8sLjbVeaXjP4l8PtlqUOg/awA5BAGr4T9jhtZLENXhP6m+5y8PAuI/6s6Cx+9c4j/cLc7/k4HiP6qPztcpqOI/zb3cBP6B4z+n4+VPo+HjP7ov+PU78+M/m/JN13N45D9RsKnSHwLlPyqCMBpLFOc/",
          "dtype": "f8"
         }
        },
        {
         "hovertemplate": "Star Rating=5<br>wordcount=%{x}<br>titleSentiment=%{y}<br>sentimentValue=%{z}<extra></extra>",
         "legendgroup": "5",
         "marker": {
          "color": "#d8576b",
          "size": 5,
          "symbol": "circle"
         },
         "mode": "markers",
         "name": "5",
         "scene": "scene",
         "showlegend": true,
         "type": "scatter3d",
         "x": {
          "bdata": "27Zt27Ztuz+SJEmSJEmyP5IkSZIkSdI/AAAAAAAAAACSJEmSJEnSP5IkSZIkSaI/kiRJkiRJwj8AAAAAAAAAAAAAAAAAANA/t23btm3bxj/btm3btm3LP5IkSZIkSaI/kiRJkiRJoj+SJEmSJEnCP5IkSZIkScI/t23btm3bxj8AAAAAAADQP5IkSZIkSaI/27Zt27Ztyz+SJEmSJEnSP7dt27Zt29Y/kiRJkiRJwj+SJEmSJEmyP7dt27Zt28Y/kiRJkiRJsj8lSZIkSZLUP9u2bdu2bbs/kiRJkiRJsj+SJEmSJEmiP5IkSZIkSaI/kiRJkiRJoj+3bdu2bdvGP5IkSZIkSaI/kiRJkiRJoj+SJEmSJEnSP5IkSZIkSdI/t23btm3bxj8lSZIkSZLUP5IkSZIkSbI/kiRJkiRJsj+SJEmSJEnSP5IkSZIkSbI/27Zt27Ztyz8AAAAAAADQP9u2bdu2bcs/t23btm3bxj/btm3btm27PwAAAAAAAAAAAAAAAAAAAADbtm3btm3LP5IkSZIkSbI/kiRJkiRJoj+SJEmSJEnCPwAAAAAAAAAAkiRJkiRJoj+SJEmSJEmyP7dt27Zt28Y/kiRJkiRJoj+SJEmSJEmiP7dt27Zt28Y/kiRJkiRJsj+SJEmSJEnSP5IkSZIkSaI/27Zt27Ztyz+SJEmSJEnCP5IkSZIkSdI/kiRJkiRJoj+SJEmSJEmiP5IkSZIkSbI/AAAAAAAAAACSJEmSJEnCP5IkSZIkSbI/kiRJkiRJsj+SJEmSJEmiP9u2bdu2bcs/kiRJkiRJoj+SJEmSJEmiP5IkSZIkSaI/kiRJkiRJwj8AAAAAAAAAAJIkSZIkSaI/kiRJkiRJoj8AAAAAAAAAAJIkSZIkSbI/AAAAAAAAAAAAAAAAAAAAAAAAAAAAAAAAkiRJkiRJsj8=",
          "dtype": "f8"
         },
         "y": {
          "bdata": "AQEBAQEBAQEBAQABAQEBAQEBAQEBAQEBAAABAQEBAQEBAQEBAQEBAQEBAQEBAQEBAQEBAQEBAQEBAQEBAAEBAQEBAQEBAQEBAQEBAQEBAQEBAQEBAQEBAA==",
          "dtype": "i1"
         },
         "z": {
          "bdata": "EAGr0hNH4T81PH7FmVfhPxQxWZbPXOE/khVygQRd4T8KeK/7NGHhPzIsrA/3feE/WdKqOVeC4T9iA8oncKThPx3yFAR6vuE/SozIpLHZ4T9FMaVjyebhP8RSJlYYIOI/DNOXzuM54j+f08YSumTiPyACOm5QieI/nE3lnkWU4j/uH4nYApfiP3eMRkBpmuI/5n/L/1Sb4j/obOyP9qPiPzlbl6+EquI/SxTkLY+u4j+aJIe1fbjiPwrcYqc+uuI/Y5/LpE264j8GfHb8q8XiP1yYsLRIx+I/6jpAxpLQ4j8jnH0+3ejiP3GyDiZ/6uI/73rNHSny4j83D5i1QRzjPyJxRhc6KOM/InFGFzoo4z/wARSKRS3jP6MSxgKTL+M/Fcurbs5M4z//jMC9/GTjP92Pb+cMzeM/3Y9v5wzN4z8BQBKj8e7jPyv/MtAh8OM/JgHdoS8Q5D/zWb0ewSPkP4xkLzxxUuQ/Lr/yAy1z5D92DuxkqofkPxqsK7B1qeQ/GqwrsHWp5D+AOoLCCrLkP6A39iPHs+Q/tUZW32jR5D/u+T8yRtrkPwSsFagT2+Q/ukNITsUV5T/qFkdJES3lP1oEu+n0cuU/PvZtfaOE5T8+9m19o4TlP+a00SokleU/tKXICG+f5T8grIv8pqflP/ED0v7bsOU/YnilVEez5T/TqGd02vzlP7mY8sN2HOY/fEodP4pf5j98Sh0/il/mP+K0Sp8KhuY/GftsHixZ5z8E0csS+IbnPzSmn96Dxuc/NKaf3oPG5z/+HQrIMzboP+p3d8bjOOg/gBXZf+JD6D+AFdl/4kPoP4AV2X/iQ+g/EXLsaulk6D8A3xsgreHoP5DDROkqLuk/iGpBSgFV6T/IYIKQx/rpPxp1T69fQus/nu7mGZSy6z+e7uYZlLLrP57u5hmUsus/ZAs7ru0O7T8=",
          "dtype": "f8"
         }
        }
       ],
       "layout": {
        "legend": {
         "title": {
          "text": "Star Rating"
         },
         "tracegroupgap": 0
        },
        "margin": {
         "t": 60
        },
        "scene": {
         "domain": {
          "x": [
           0,
           1
          ],
          "y": [
           0,
           1
          ]
         },
         "xaxis": {
          "title": {
           "text": "wordcount"
          }
         },
         "yaxis": {
          "title": {
           "text": "titleSentiment"
          }
         },
         "zaxis": {
          "title": {
           "text": "sentimentValue"
          }
         }
        },
        "template": {
         "data": {
          "bar": [
           {
            "error_x": {
             "color": "#2a3f5f"
            },
            "error_y": {
             "color": "#2a3f5f"
            },
            "marker": {
             "line": {
              "color": "#E5ECF6",
              "width": 0.5
             },
             "pattern": {
              "fillmode": "overlay",
              "size": 10,
              "solidity": 0.2
             }
            },
            "type": "bar"
           }
          ],
          "barpolar": [
           {
            "marker": {
             "line": {
              "color": "#E5ECF6",
              "width": 0.5
             },
             "pattern": {
              "fillmode": "overlay",
              "size": 10,
              "solidity": 0.2
             }
            },
            "type": "barpolar"
           }
          ],
          "carpet": [
           {
            "aaxis": {
             "endlinecolor": "#2a3f5f",
             "gridcolor": "white",
             "linecolor": "white",
             "minorgridcolor": "white",
             "startlinecolor": "#2a3f5f"
            },
            "baxis": {
             "endlinecolor": "#2a3f5f",
             "gridcolor": "white",
             "linecolor": "white",
             "minorgridcolor": "white",
             "startlinecolor": "#2a3f5f"
            },
            "type": "carpet"
           }
          ],
          "choropleth": [
           {
            "colorbar": {
             "outlinewidth": 0,
             "ticks": ""
            },
            "type": "choropleth"
           }
          ],
          "contour": [
           {
            "colorbar": {
             "outlinewidth": 0,
             "ticks": ""
            },
            "colorscale": [
             [
              0,
              "#0d0887"
             ],
             [
              0.1111111111111111,
              "#46039f"
             ],
             [
              0.2222222222222222,
              "#7201a8"
             ],
             [
              0.3333333333333333,
              "#9c179e"
             ],
             [
              0.4444444444444444,
              "#bd3786"
             ],
             [
              0.5555555555555556,
              "#d8576b"
             ],
             [
              0.6666666666666666,
              "#ed7953"
             ],
             [
              0.7777777777777778,
              "#fb9f3a"
             ],
             [
              0.8888888888888888,
              "#fdca26"
             ],
             [
              1,
              "#f0f921"
             ]
            ],
            "type": "contour"
           }
          ],
          "contourcarpet": [
           {
            "colorbar": {
             "outlinewidth": 0,
             "ticks": ""
            },
            "type": "contourcarpet"
           }
          ],
          "heatmap": [
           {
            "colorbar": {
             "outlinewidth": 0,
             "ticks": ""
            },
            "colorscale": [
             [
              0,
              "#0d0887"
             ],
             [
              0.1111111111111111,
              "#46039f"
             ],
             [
              0.2222222222222222,
              "#7201a8"
             ],
             [
              0.3333333333333333,
              "#9c179e"
             ],
             [
              0.4444444444444444,
              "#bd3786"
             ],
             [
              0.5555555555555556,
              "#d8576b"
             ],
             [
              0.6666666666666666,
              "#ed7953"
             ],
             [
              0.7777777777777778,
              "#fb9f3a"
             ],
             [
              0.8888888888888888,
              "#fdca26"
             ],
             [
              1,
              "#f0f921"
             ]
            ],
            "type": "heatmap"
           }
          ],
          "histogram": [
           {
            "marker": {
             "pattern": {
              "fillmode": "overlay",
              "size": 10,
              "solidity": 0.2
             }
            },
            "type": "histogram"
           }
          ],
          "histogram2d": [
           {
            "colorbar": {
             "outlinewidth": 0,
             "ticks": ""
            },
            "colorscale": [
             [
              0,
              "#0d0887"
             ],
             [
              0.1111111111111111,
              "#46039f"
             ],
             [
              0.2222222222222222,
              "#7201a8"
             ],
             [
              0.3333333333333333,
              "#9c179e"
             ],
             [
              0.4444444444444444,
              "#bd3786"
             ],
             [
              0.5555555555555556,
              "#d8576b"
             ],
             [
              0.6666666666666666,
              "#ed7953"
             ],
             [
              0.7777777777777778,
              "#fb9f3a"
             ],
             [
              0.8888888888888888,
              "#fdca26"
             ],
             [
              1,
              "#f0f921"
             ]
            ],
            "type": "histogram2d"
           }
          ],
          "histogram2dcontour": [
           {
            "colorbar": {
             "outlinewidth": 0,
             "ticks": ""
            },
            "colorscale": [
             [
              0,
              "#0d0887"
             ],
             [
              0.1111111111111111,
              "#46039f"
             ],
             [
              0.2222222222222222,
              "#7201a8"
             ],
             [
              0.3333333333333333,
              "#9c179e"
             ],
             [
              0.4444444444444444,
              "#bd3786"
             ],
             [
              0.5555555555555556,
              "#d8576b"
             ],
             [
              0.6666666666666666,
              "#ed7953"
             ],
             [
              0.7777777777777778,
              "#fb9f3a"
             ],
             [
              0.8888888888888888,
              "#fdca26"
             ],
             [
              1,
              "#f0f921"
             ]
            ],
            "type": "histogram2dcontour"
           }
          ],
          "mesh3d": [
           {
            "colorbar": {
             "outlinewidth": 0,
             "ticks": ""
            },
            "type": "mesh3d"
           }
          ],
          "parcoords": [
           {
            "line": {
             "colorbar": {
              "outlinewidth": 0,
              "ticks": ""
             }
            },
            "type": "parcoords"
           }
          ],
          "pie": [
           {
            "automargin": true,
            "type": "pie"
           }
          ],
          "scatter": [
           {
            "fillpattern": {
             "fillmode": "overlay",
             "size": 10,
             "solidity": 0.2
            },
            "type": "scatter"
           }
          ],
          "scatter3d": [
           {
            "line": {
             "colorbar": {
              "outlinewidth": 0,
              "ticks": ""
             }
            },
            "marker": {
             "colorbar": {
              "outlinewidth": 0,
              "ticks": ""
             }
            },
            "type": "scatter3d"
           }
          ],
          "scattercarpet": [
           {
            "marker": {
             "colorbar": {
              "outlinewidth": 0,
              "ticks": ""
             }
            },
            "type": "scattercarpet"
           }
          ],
          "scattergeo": [
           {
            "marker": {
             "colorbar": {
              "outlinewidth": 0,
              "ticks": ""
             }
            },
            "type": "scattergeo"
           }
          ],
          "scattergl": [
           {
            "marker": {
             "colorbar": {
              "outlinewidth": 0,
              "ticks": ""
             }
            },
            "type": "scattergl"
           }
          ],
          "scattermap": [
           {
            "marker": {
             "colorbar": {
              "outlinewidth": 0,
              "ticks": ""
             }
            },
            "type": "scattermap"
           }
          ],
          "scattermapbox": [
           {
            "marker": {
             "colorbar": {
              "outlinewidth": 0,
              "ticks": ""
             }
            },
            "type": "scattermapbox"
           }
          ],
          "scatterpolar": [
           {
            "marker": {
             "colorbar": {
              "outlinewidth": 0,
              "ticks": ""
             }
            },
            "type": "scatterpolar"
           }
          ],
          "scatterpolargl": [
           {
            "marker": {
             "colorbar": {
              "outlinewidth": 0,
              "ticks": ""
             }
            },
            "type": "scatterpolargl"
           }
          ],
          "scatterternary": [
           {
            "marker": {
             "colorbar": {
              "outlinewidth": 0,
              "ticks": ""
             }
            },
            "type": "scatterternary"
           }
          ],
          "surface": [
           {
            "colorbar": {
             "outlinewidth": 0,
             "ticks": ""
            },
            "colorscale": [
             [
              0,
              "#0d0887"
             ],
             [
              0.1111111111111111,
              "#46039f"
             ],
             [
              0.2222222222222222,
              "#7201a8"
             ],
             [
              0.3333333333333333,
              "#9c179e"
             ],
             [
              0.4444444444444444,
              "#bd3786"
             ],
             [
              0.5555555555555556,
              "#d8576b"
             ],
             [
              0.6666666666666666,
              "#ed7953"
             ],
             [
              0.7777777777777778,
              "#fb9f3a"
             ],
             [
              0.8888888888888888,
              "#fdca26"
             ],
             [
              1,
              "#f0f921"
             ]
            ],
            "type": "surface"
           }
          ],
          "table": [
           {
            "cells": {
             "fill": {
              "color": "#EBF0F8"
             },
             "line": {
              "color": "white"
             }
            },
            "header": {
             "fill": {
              "color": "#C8D4E3"
             },
             "line": {
              "color": "white"
             }
            },
            "type": "table"
           }
          ]
         },
         "layout": {
          "annotationdefaults": {
           "arrowcolor": "#2a3f5f",
           "arrowhead": 0,
           "arrowwidth": 1
          },
          "autotypenumbers": "strict",
          "coloraxis": {
           "colorbar": {
            "outlinewidth": 0,
            "ticks": ""
           }
          },
          "colorscale": {
           "diverging": [
            [
             0,
             "#8e0152"
            ],
            [
             0.1,
             "#c51b7d"
            ],
            [
             0.2,
             "#de77ae"
            ],
            [
             0.3,
             "#f1b6da"
            ],
            [
             0.4,
             "#fde0ef"
            ],
            [
             0.5,
             "#f7f7f7"
            ],
            [
             0.6,
             "#e6f5d0"
            ],
            [
             0.7,
             "#b8e186"
            ],
            [
             0.8,
             "#7fbc41"
            ],
            [
             0.9,
             "#4d9221"
            ],
            [
             1,
             "#276419"
            ]
           ],
           "sequential": [
            [
             0,
             "#0d0887"
            ],
            [
             0.1111111111111111,
             "#46039f"
            ],
            [
             0.2222222222222222,
             "#7201a8"
            ],
            [
             0.3333333333333333,
             "#9c179e"
            ],
            [
             0.4444444444444444,
             "#bd3786"
            ],
            [
             0.5555555555555556,
             "#d8576b"
            ],
            [
             0.6666666666666666,
             "#ed7953"
            ],
            [
             0.7777777777777778,
             "#fb9f3a"
            ],
            [
             0.8888888888888888,
             "#fdca26"
            ],
            [
             1,
             "#f0f921"
            ]
           ],
           "sequentialminus": [
            [
             0,
             "#0d0887"
            ],
            [
             0.1111111111111111,
             "#46039f"
            ],
            [
             0.2222222222222222,
             "#7201a8"
            ],
            [
             0.3333333333333333,
             "#9c179e"
            ],
            [
             0.4444444444444444,
             "#bd3786"
            ],
            [
             0.5555555555555556,
             "#d8576b"
            ],
            [
             0.6666666666666666,
             "#ed7953"
            ],
            [
             0.7777777777777778,
             "#fb9f3a"
            ],
            [
             0.8888888888888888,
             "#fdca26"
            ],
            [
             1,
             "#f0f921"
            ]
           ]
          },
          "colorway": [
           "#636efa",
           "#EF553B",
           "#00cc96",
           "#ab63fa",
           "#FFA15A",
           "#19d3f3",
           "#FF6692",
           "#B6E880",
           "#FF97FF",
           "#FECB52"
          ],
          "font": {
           "color": "#2a3f5f"
          },
          "geo": {
           "bgcolor": "white",
           "lakecolor": "white",
           "landcolor": "#E5ECF6",
           "showlakes": true,
           "showland": true,
           "subunitcolor": "white"
          },
          "hoverlabel": {
           "align": "left"
          },
          "hovermode": "closest",
          "mapbox": {
           "style": "light"
          },
          "paper_bgcolor": "white",
          "plot_bgcolor": "#E5ECF6",
          "polar": {
           "angularaxis": {
            "gridcolor": "white",
            "linecolor": "white",
            "ticks": ""
           },
           "bgcolor": "#E5ECF6",
           "radialaxis": {
            "gridcolor": "white",
            "linecolor": "white",
            "ticks": ""
           }
          },
          "scene": {
           "xaxis": {
            "backgroundcolor": "#E5ECF6",
            "gridcolor": "white",
            "gridwidth": 2,
            "linecolor": "white",
            "showbackground": true,
            "ticks": "",
            "zerolinecolor": "white"
           },
           "yaxis": {
            "backgroundcolor": "#E5ECF6",
            "gridcolor": "white",
            "gridwidth": 2,
            "linecolor": "white",
            "showbackground": true,
            "ticks": "",
            "zerolinecolor": "white"
           },
           "zaxis": {
            "backgroundcolor": "#E5ECF6",
            "gridcolor": "white",
            "gridwidth": 2,
            "linecolor": "white",
            "showbackground": true,
            "ticks": "",
            "zerolinecolor": "white"
           }
          },
          "shapedefaults": {
           "line": {
            "color": "#2a3f5f"
           }
          },
          "ternary": {
           "aaxis": {
            "gridcolor": "white",
            "linecolor": "white",
            "ticks": ""
           },
           "baxis": {
            "gridcolor": "white",
            "linecolor": "white",
            "ticks": ""
           },
           "bgcolor": "#E5ECF6",
           "caxis": {
            "gridcolor": "white",
            "linecolor": "white",
            "ticks": ""
           }
          },
          "title": {
           "x": 0.05
          },
          "xaxis": {
           "automargin": true,
           "gridcolor": "white",
           "linecolor": "white",
           "ticks": "",
           "title": {
            "standoff": 15
           },
           "zerolinecolor": "white",
           "zerolinewidth": 2
          },
          "yaxis": {
           "automargin": true,
           "gridcolor": "white",
           "linecolor": "white",
           "ticks": "",
           "title": {
            "standoff": 15
           },
           "zerolinecolor": "white",
           "zerolinewidth": 2
          }
         }
        }
       }
      }
     },
     "metadata": {},
     "output_type": "display_data"
    }
   ],
   "source": [
    "import plotly.express as px\n",
    "\n",
    "df_aux = df.copy()\n",
    "df_aux[\"Star Rating\"] = df_aux[\"Star Rating\"].astype(str)\n",
    "\n",
    "fig = px.scatter_3d(\n",
    "    df_aux,\n",
    "    x=\"wordcount\",\n",
    "    y=\"titleSentiment\",\n",
    "    z=\"sentimentValue\",\n",
    "    color=\"Star Rating\",\n",
    "    color_discrete_sequence=px.colors.sequential.Plasma_r\n",
    ")\n",
    "fig.update_traces(marker=dict(size=5))\n",
    "fig.show()\n"
   ]
  },
  {
   "cell_type": "markdown",
   "id": "27256be9",
   "metadata": {},
   "source": [
    "## 5. KNN Implementation"
   ]
  },
  {
   "cell_type": "code",
   "execution_count": 6,
   "id": "5685bf31",
   "metadata": {},
   "outputs": [],
   "source": [
    "import numpy as np\n",
    "from collections import Counter\n",
    "\n",
    "class KNNClassifier:\n",
    "    \"\"\"\n",
    "    Custom implementation of k-Nearest Neighbors (KNN).\n",
    "    Supports unweighted (majority vote) and weighted (distance-based) voting.\n",
    "    \"\"\"\n",
    "    def __init__(self, k: int = 3, weighted: bool = False):\n",
    "        self.k = k\n",
    "        self.weighted = weighted\n",
    "        self.X_train = None\n",
    "        self.y_train = None\n",
    "\n",
    "    def fit(self, X, y):\n",
    "        self.X_train = X\n",
    "        self.y_train = y\n",
    "\n",
    "    def _euclidean_distance(self, a, b):\n",
    "        return np.sqrt(np.sum((a - b) ** 2))\n",
    "\n",
    "    def predict(self, X):\n",
    "        predictions = []\n",
    "        for sample in X:\n",
    "            distances = np.array([self._euclidean_distance(sample, train_sample) for train_sample in self.X_train])\n",
    "            nearest_indices = np.argsort(distances)[:self.k]\n",
    "            nearest_labels = self.y_train.iloc[nearest_indices]\n",
    "            nearest_distances = distances[nearest_indices]\n",
    "\n",
    "            if self.weighted:\n",
    "                weights = 1 / (nearest_distances + 1e-9)\n",
    "                label_scores = {}\n",
    "                for lbl, w in zip(nearest_labels, weights):\n",
    "                    label_scores[lbl] = label_scores.get(lbl, 0) + w\n",
    "                majority_label = max(label_scores, key=label_scores.get)\n",
    "            else:\n",
    "                majority_label = Counter(nearest_labels).most_common(1)[0][0]\n",
    "\n",
    "            predictions.append(majority_label)\n",
    "        return np.array(predictions)\n"
   ]
  },
  {
   "cell_type": "markdown",
   "id": "53184a3d",
   "metadata": {},
   "source": [
    "## 6. Cross-Validation Experiment"
   ]
  },
  {
   "cell_type": "code",
   "execution_count": 8,
   "id": "cc0d35af",
   "metadata": {},
   "outputs": [
    {
     "data": {
      "image/png": "[encoded data removed]",
      "text/plain": [
       "<Figure size 800x500 with 1 Axes>"
      ]
     },
     "metadata": {},
     "output_type": "display_data"
    }
   ],
   "source": [
    "from sklearn.model_selection import StratifiedKFold\n",
    "from sklearn.metrics import accuracy_score\n",
    "import matplotlib.pyplot as plt\n",
    "import warnings\n",
    "\n",
    "warnings.filterwarnings(\"ignore\")\n",
    "\n",
    "feature_cols = [\"wordcount\", \"titleSentiment\", \"sentimentValue\"]\n",
    "X = df[feature_cols].to_numpy()\n",
    "y = df[\"Star Rating\"]\n",
    "\n",
    "def cross_val_error_vs_k(X, y, k_values, weighted=False, n_splits=5):\n",
    "    skf = StratifiedKFold(n_splits=n_splits, shuffle=True, random_state=42)\n",
    "    error_rates = []\n",
    "\n",
    "    for k in k_values:\n",
    "        fold_errors = []\n",
    "        for train_idx, test_idx in skf.split(X, y):\n",
    "            X_train, X_test = X[train_idx], X[test_idx]\n",
    "            y_train, y_test = y.iloc[train_idx], y.iloc[test_idx]\n",
    "\n",
    "            knn = KNNClassifier(k=k, weighted=weighted)\n",
    "            knn.fit(X_train, y_train)\n",
    "            y_pred = knn.predict(X_test)\n",
    "\n",
    "            acc = accuracy_score(y_test, y_pred)\n",
    "            fold_errors.append(1 - acc)\n",
    "        error_rates.append(np.mean(fold_errors))\n",
    "    return error_rates\n",
    "\n",
    "k_vec = list(range(1, 30))\n",
    "err_rate_weighted = cross_val_error_vs_k(X, y, k_vec, weighted=True)\n",
    "err_rate_unweighted = cross_val_error_vs_k(X, y, k_vec, weighted=False)\n",
    "\n",
    "plt.figure(figsize=(8, 5))\n",
    "plt.plot(k_vec, err_rate_weighted, label=\"Dist-weighted\", color=\"green\")\n",
    "plt.plot(k_vec, err_rate_unweighted, label=\"Majority\", color=\"orange\")\n",
    "plt.title(\"Error vs k\")\n",
    "plt.ylabel(\"Error Rate\")\n",
    "plt.xlabel(\"k\")\n",
    "plt.legend()\n",
    "plt.show()\n"
   ]
  },
  {
   "cell_type": "markdown",
   "id": "35a92312",
   "metadata": {},
   "source": [
    "The cross-validation experiment shows how the error rate varies with the number of neighbors \n",
    "𝑘\n",
    "k for both majority-vote KNN and distance-weighted KNN:\n",
    "\n",
    "The lowest error rate (~0.15–0.17) occurs around k = 4–5 for both variants.\n",
    "\n",
    "As \n",
    "𝑘\n",
    "k increases, the majority-vote KNN (orange) becomes less accurate, since distant neighbors begin to dominate the decision and add noise.\n",
    "\n",
    "The distance-weighted KNN (green) consistently achieves lower error rates across almost all values of \n",
    "𝑘\n",
    "k, because it reduces the impact of far-away points and gives more weight to closer, more relevant neighbors.\n",
    "\n",
    "The gap between the two methods grows larger as \n",
    "𝑘\n",
    "k increases, highlighting the benefit of weighting by distance.\n",
    "\n",
    "Conclusion: Distance-weighted KNN is more robust for this dataset. The optimal configuration is around k = 4–5 with distance weighting, balancing low error and stability."
   ]
  },
  {
   "cell_type": "markdown",
   "id": "0953a004",
   "metadata": {},
   "source": [
    "## 7. Results & Discussion"
   ]
  },
  {
   "cell_type": "code",
   "execution_count": 9,
   "id": "89cf3cb5",
   "metadata": {},
   "outputs": [
    {
     "name": "stdout",
     "output_type": "stream",
     "text": [
      "Best k (weighted): 5, Error: 0.1633\n",
      "Best k (unweighted): 5, Error: 0.1517\n"
     ]
    }
   ],
   "source": [
    "\n",
    "best_k_weighted = k_vec[np.argmin(err_rate_weighted)]\n",
    "best_k_unweighted = k_vec[np.argmin(err_rate_unweighted)]\n",
    "print(f\"Best k (weighted): {best_k_weighted}, Error: {min(err_rate_weighted):.4f}\")\n",
    "print(f\"Best k (unweighted): {best_k_unweighted}, Error: {min(err_rate_unweighted):.4f}\")\n"
   ]
  },
  {
   "cell_type": "markdown",
   "id": "a80953eb",
   "metadata": {},
   "source": [
    "\n",
    "## 8. Conclusion\n",
    "\n",
    "- KNN is simple but effective.  \n",
    "- Sensitive to feature scaling and the choice of k.  \n",
    "- Distance-weighted KNN often performs better when classes overlap.  \n",
    "- On this dataset, we observed how error varies with k, and identified the optimal k for both variants.  \n"
   ]
  }
 ],
 "metadata": {
  "kernelspec": {
   "display_name": "truco",
   "language": "python",
   "name": "python3"
  },
  "language_info": {
   "codemirror_mode": {
    "name": "ipython",
    "version": 3
   },
   "file_extension": ".py",
   "mimetype": "text/x-python",
   "name": "python",
   "nbconvert_exporter": "python",
   "pygments_lexer": "ipython3",
   "version": "3.9.21"
  }
 },
 "nbformat": 4,
 "nbformat_minor": 5
}
